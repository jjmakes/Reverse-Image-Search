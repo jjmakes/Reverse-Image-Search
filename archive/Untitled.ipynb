{
 "cells": [
  {
   "cell_type": "markdown",
   "id": "cd77234e",
   "metadata": {},
   "source": [
    "# Face Detection\n",
    "\n",
    "To detect faces, we use opencv's pre-trained haarcascade models, which are provided in:\n"
   ]
  },
  {
   "cell_type": "code",
   "execution_count": 3,
   "id": "9214603a",
   "metadata": {},
   "outputs": [],
   "source": [
    "import cv2\n",
    "import numpy as np\n",
    "\n",
    "# Used to pad around extracted faces\n",
    "offset = 10\n",
    "\n",
    "# Initialize haar cascade filters\n",
    "face_cascade = cv2.CascadeClassifier(\"./haarcascades/haarcascade_frontalface_default.xml\")"
   ]
  },
  {
   "cell_type": "code",
   "execution_count": null,
   "id": "fe095251",
   "metadata": {},
   "outputs": [],
   "source": [
    "# Crop faces from photos\n",
    "def crop(photo_path):\n",
    "    \n",
    "    # Read Photo into the img var\n",
    "    img = cv2.imread(photo_path)\n",
    "    # cv2.imshow('photo', img)\n",
    " \n",
    "    # Apply grayscale to the image\n",
    "    gray = cv2.cvtColor(img, cv2.COLOR_BGR2GRAY)\n",
    " \n",
    "    # Face Detection\n",
    "    # Cascading params: image, scaleFactor, minNeighbors\n",
    "    face = face_cascade.detectMultiScale(gray, 1.3, 5)\n",
    " \n",
    "    if len(face) == 0:\n",
    "        return face\n",
    " \n",
    "    x,y,w,h = face[0]\n",
    " \n",
    "    # Drawing a rectangle around the face coordinates\n",
    "    # cv2.rectangle(img,(x,y),(x+w,y+h),(255,0,0),2) \n",
    " \n",
    "    # Slicing face from original image\n",
    "    face_cut = img[y-offset:y+h+offset,x-offset:x+w+offset]\n",
    "    if 0 in face_cut.shape:\n",
    "        return []\n",
    "    # Resizing faces to 128x128px\n",
    "    face_cut = cv2.resize(face_cut,(128,128))\n",
    "\n",
    "    # Display each face and wait for keypress before proceeding\n",
    "    # cv2.imshow('crop', face_cut)\n",
    "    # cv2.waitKey(0)\n",
    "    # cv2.destroyAllWindows()\n",
    " \n",
    "    return face_cut"
   ]
  }
 ],
 "metadata": {
  "kernelspec": {
   "display_name": "Python 3 (ipykernel)",
   "language": "python",
   "name": "python3"
  },
  "language_info": {
   "codemirror_mode": {
    "name": "ipython",
    "version": 3
   },
   "file_extension": ".py",
   "mimetype": "text/x-python",
   "name": "python",
   "nbconvert_exporter": "python",
   "pygments_lexer": "ipython3",
   "version": "3.8.10"
  }
 },
 "nbformat": 4,
 "nbformat_minor": 5
}
